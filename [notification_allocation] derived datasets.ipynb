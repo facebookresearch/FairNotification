{
  "metadata": {
    "dataExplorerConfig": {},
    "bento_stylesheets": {
      "bento/extensions/flow/main.css": true,
      "bento/extensions/kernel_selector/main.css": true,
      "bento/extensions/kernel_ui/main.css": true,
      "bento/extensions/new_kernel/main.css": true,
      "bento/extensions/system_usage/main.css": true,
      "bento/extensions/theme/main.css": true
    },
    "kernelspec": {
      "name": "bento_kernel_default",
      "display_name": "Python 3",
      "language": "python",
      "metadata": {
        "kernel_name": "bento_kernel_default",
        "nightly_builds": true,
        "fbpkg_supported": true,
        "cinder_runtime": true,
        "ipyflow_runtime": false,
        "is_prebuilt": true
      },
      "isCinder": true
    },
    "language_info": {
      "codemirror_mode": {
        "name": "ipython",
        "version": 3
      },
      "file_extension": ".py",
      "mimetype": "text/x-python",
      "name": "python",
      "nbconvert_exporter": "python",
      "pygments_lexer": "ipython3"
    },
    "last_server_session_id": "e19b50eb-78b8-4e23-8835-9e0cd9c83f5f",
    "last_kernel_id": "1843a335-133e-4ee7-95be-863b3fa0f4d2",
    "last_base_url": "https://devbig930.prn1.facebook.com:8090/",
    "last_msg_id": "6217c67a-5dc92217275efe5a572d149d_594",
    "outputWidgetContext": {}
  },
  "nbformat": 4,
  "nbformat_minor": 2,
  "cells": [
    {
      "cell_type": "markdown",
      "metadata": {
        "originalKey": "abc8d4b0-ce47-41fd-a214-69c1da8b6a21",
        "showInput": false,
        "customInput": null
      },
      "source": [
        "Copyright (c) Meta Platforms, Inc. and affiliates.\n",
        "All rights reserved.\n",
        "\n",
        "This source code is licensed under the license found in the\n",
        "LICENSE file in the root directory of this source tree.\n",
        ""
      ]
    },
    {
      "cell_type": "code",
      "metadata": {
        "collapsed": false,
        "originalKey": "cbd53fcb-4435-41bd-a58b-809981d734a6",
        "requestMsgId": "cbd53fcb-4435-41bd-a58b-809981d734a6",
        "executionStartTime": 1693594431307,
        "executionStopTime": 1693594431323
      },
      "source": [
        "import pandas as pd"
      ],
      "execution_count": 4,
      "outputs": []
    },
    {
      "cell_type": "markdown",
      "metadata": {
        "originalKey": "60e26334-0f72-49b1-a84c-c9cc3428643b",
        "showInput": false,
        "customInput": null
      },
      "source": [
        "**The dataset can be downloaded at https://socialmediaarchive.org/record/55?&ln=en**"
      ]
    },
    {
      "cell_type": "code",
      "metadata": {
        "originalKey": "1f986cf5-17d2-49ac-9416-e402a7298ef3",
        "showInput": true,
        "customInput": null,
        "collapsed": false,
        "requestMsgId": "1f986cf5-17d2-49ac-9416-e402a7298ef3",
        "executionStartTime": 1693594433279,
        "executionStopTime": 1693594434333,
        "customOutput": null
      },
      "source": [
        "data_file_name = \"instagram_notification_auction_base_dataset.csv\"\n",
        "df = pd.read_csv(data_file_name)"
      ],
      "execution_count": 5,
      "outputs": []
    },
    {
      "cell_type": "code",
      "metadata": {
        "originalKey": "5f4fe2ed-9694-4422-837e-c45f3a725bd3",
        "showInput": true,
        "customInput": null,
        "collapsed": false,
        "requestMsgId": "5f4fe2ed-9694-4422-837e-c45f3a725bd3",
        "executionStartTime": 1693594434592,
        "executionStopTime": 1693594434604
      },
      "source": [
        "df.columns"
      ],
      "execution_count": 6,
      "outputs": [
        {
          "output_type": "execute_result",
          "data": {
            "text/plain": "Index(['ndid', 'user_id', 'user_id_anonymized', 'notification_type',\n       'notification_value', 'dummy_bidder_bid', 'pacing_multiplier',\n       'clicked', 'sent', 'auction_event_time', 'auction_type', 'event_id',\n       'auction_event_date'],\n      dtype='object')"
          },
          "metadata": {},
          "execution_count": 6
        }
      ]
    },
    {
      "cell_type": "markdown",
      "metadata": {
        "originalKey": "dd09f3d9-f2b8-4bf0-9e6a-f61e1228bed4",
        "showInput": false,
        "customInput": null
      },
      "source": [
        "## Derived Dataset 1"
      ]
    },
    {
      "cell_type": "code",
      "metadata": {
        "originalKey": "73a14ce8-b201-4e1a-be72-13e1247b8a90",
        "showInput": true,
        "customInput": null,
        "collapsed": false,
        "requestMsgId": "73a14ce8-b201-4e1a-be72-13e1247b8a90",
        "executionStartTime": 1693594435725,
        "executionStopTime": 1693594444581
      },
      "source": [
        "# time window = 1 day\n",
        "# if a user receives less than 2 types of notifications within a time window, we drop them\n",
        "threshold = 2\n",
        "keeps = set(\n",
        "    df.groupby(\n",
        "        ['auction_event_date', 'user_id_anonymized']\n",
        "    ).agg(\n",
        "        {'notification_type': 'nunique'}\n",
        "    ).loc[\n",
        "        lambda x: x['notification_type'] >= threshold, :\n",
        "    ].index\n",
        ")\n",
        "\n",
        "df_keeps = df.loc[\n",
        "    df.apply(\n",
        "        lambda x: (x['auction_event_date'], x['user_id_anonymized']) in keeps, axis=1\n",
        "    ), :\n",
        "]"
      ],
      "execution_count": 7,
      "outputs": []
    },
    {
      "cell_type": "code",
      "metadata": {
        "originalKey": "c29152be-6590-4c10-adc3-bbf896ee91e4",
        "showInput": true,
        "customInput": null,
        "collapsed": false,
        "requestMsgId": "c29152be-6590-4c10-adc3-bbf896ee91e4",
        "executionStartTime": 1693594444597,
        "executionStopTime": 1693594445047
      },
      "source": [
        "print('{} entries out of {} entries removed.'.format(\n",
        "    df.shape[0] - df_keeps.shape[0], df.shape[0]\n",
        "))\n",
        "print('***' * 20)\n",
        "for auction_event_date in sorted(df['auction_event_date'].unique()):\n",
        "    print('{} users out of {} users are kept in day {}'.format(\n",
        "        df_keeps[\n",
        "            df_keeps['auction_event_date'] == auction_event_date\n",
        "        ]['user_id_anonymized'].nunique(),\n",
        "        df[\n",
        "            df['auction_event_date'] == auction_event_date\n",
        "        ]['user_id_anonymized'].nunique(),\n",
        "        auction_event_date\n",
        "    ))"
      ],
      "execution_count": 8,
      "outputs": [
        {
          "output_type": "stream",
          "name": "stdout",
          "text": [
            "318722 entries out of 409698 entries removed.\n************************************************************\n4601 users out of 32144 users are kept in day 2022-12-14\n3909 users out of 29052 users are kept in day 2022-12-15\n4163 users out of 29812 users are kept in day 2022-12-16\n3704 users out of 28425 users are kept in day 2022-12-17\n"
          ]
        },
        {
          "output_type": "stream",
          "name": "stdout",
          "text": [
            "2910 users out of 26267 users are kept in day 2022-12-18\n2908 users out of 26575 users are kept in day 2022-12-19\n3615 users out of 29600 users are kept in day 2022-12-20\n3945 users out of 31536 users are kept in day 2022-12-21\n4420 users out of 32523 users are kept in day 2022-12-22\n"
          ]
        },
        {
          "output_type": "stream",
          "name": "stdout",
          "text": [
            "4440 users out of 32284 users are kept in day 2022-12-23\n"
          ]
        }
      ]
    },
    {
      "cell_type": "code",
      "metadata": {
        "originalKey": "cac80303-3be2-4a19-8e9a-107c65dacd15",
        "showInput": true,
        "customInput": null,
        "collapsed": false,
        "requestMsgId": "cac80303-3be2-4a19-8e9a-107c65dacd15",
        "executionStartTime": 1693594445073,
        "executionStopTime": 1693594450308
      },
      "source": [
        "# for each day and for each user, combine the notifications generated for them\n",
        "df_derived_1 = df_keeps.groupby(\n",
        "    ['auction_event_date', 'user_id_anonymized']\n",
        ").agg({\n",
        "    'auction_event_time': 'last',\n",
        "    'notification_type': list,\n",
        "    'notification_value': list\n",
        "}).reset_index()"
      ],
      "execution_count": 9,
      "outputs": []
    },
    {
      "cell_type": "code",
      "metadata": {
        "originalKey": "24738e68-0ba8-4ad2-b44f-0eec52bc27a3",
        "showInput": true,
        "customInput": null,
        "collapsed": false,
        "requestMsgId": "24738e68-0ba8-4ad2-b44f-0eec52bc27a3",
        "executionStartTime": 1693594450432,
        "executionStopTime": 1693594450763
      },
      "source": [
        "df_derived_1.to_csv('instagram_notification_auction_derived_dataset_one_day_window.csv', index=False)"
      ],
      "execution_count": 11,
      "outputs": []
    },
    {
      "cell_type": "markdown",
      "metadata": {
        "originalKey": "6f5a57f7-190c-4869-b4c2-dc3514856aa7",
        "showInput": false,
        "customInput": null
      },
      "source": [
        "## Derived Dataset 2"
      ]
    },
    {
      "cell_type": "code",
      "metadata": {
        "originalKey": "6550130f-c6f2-477b-919c-8dd49a350fa6",
        "showInput": true,
        "customInput": null,
        "collapsed": false,
        "requestMsgId": "6550130f-c6f2-477b-919c-8dd49a350fa6",
        "executionStartTime": 1693594450770,
        "executionStopTime": 1693594459769
      },
      "source": [
        "# time window = 2 days \n",
        "# note: time window is the only difference compared to dervied dataset 1\n",
        "# if a user receives less than 2 types of notifications within a time window, we drop them\n",
        "threshold = 2\n",
        "\n",
        "date_map = {\n",
        "    '2022-12-14': '2022-12-14~15',\n",
        "    '2022-12-15': '2022-12-14~15',\n",
        "    '2022-12-16': '2022-12-16~17',\n",
        "    '2022-12-17': '2022-12-16~17',\n",
        "    '2022-12-18': '2022-12-18~19',\n",
        "    '2022-12-19': '2022-12-18~19',\n",
        "    '2022-12-20': '2022-12-20~21',\n",
        "    '2022-12-21': '2022-12-20~21',\n",
        "    '2022-12-22': '2022-12-22~23',\n",
        "    '2022-12-23': '2022-12-22~23',\n",
        "}\n",
        "\n",
        "df['auction_event_date'] = df['auction_event_date'].apply(lambda x: date_map[x])\n",
        "\n",
        "keeps = set(\n",
        "    df.groupby(\n",
        "        ['auction_event_date', 'user_id_anonymized']\n",
        "    ).agg(\n",
        "        {'notification_type': 'nunique'}\n",
        "    ).loc[\n",
        "        lambda x: x['notification_type'] >= threshold, :\n",
        "    ].index\n",
        ")\n",
        "\n",
        "df_keeps = df.loc[\n",
        "    df.apply(\n",
        "        lambda x: (x['auction_event_date'], x['user_id_anonymized']) in keeps, axis=1\n",
        "    ), :\n",
        "]"
      ],
      "execution_count": 12,
      "outputs": []
    },
    {
      "cell_type": "code",
      "metadata": {
        "originalKey": "5efa0f3a-2f0d-4b27-b70a-9e2a738520db",
        "showInput": true,
        "customInput": null,
        "collapsed": false,
        "requestMsgId": "5efa0f3a-2f0d-4b27-b70a-9e2a738520db",
        "executionStartTime": 1693594459785,
        "executionStopTime": 1693594460035
      },
      "source": [
        "print('{} entries removed.'.format(df.shape[0] - df_keeps.shape[0]))\n",
        "print('***' * 20)\n",
        "for auction_event_date in sorted(df['auction_event_date'].unique()):\n",
        "    print('{} users out of {} users are kept in day {}'.format(\n",
        "        df_keeps[\n",
        "            df_keeps['auction_event_date'] == auction_event_date\n",
        "        ]['user_id_anonymized'].nunique(),\n",
        "        df[\n",
        "            df['auction_event_date'] == auction_event_date\n",
        "        ]['user_id_anonymized'].nunique(),\n",
        "        auction_event_date\n",
        "    ))"
      ],
      "execution_count": 13,
      "outputs": [
        {
          "output_type": "stream",
          "name": "stdout",
          "text": [
            "276112 entries removed.\n************************************************************\n8909 users out of 42773 users are kept in day 2022-12-14~15\n7857 users out of 40206 users are kept in day 2022-12-16~17\n6319 users out of 38226 users are kept in day 2022-12-18~19\n8379 users out of 43735 users are kept in day 2022-12-20~21\n"
          ]
        },
        {
          "output_type": "stream",
          "name": "stdout",
          "text": [
            "9608 users out of 45714 users are kept in day 2022-12-22~23\n"
          ]
        }
      ]
    },
    {
      "cell_type": "code",
      "metadata": {
        "originalKey": "acd7c6d2-1a5a-4ab2-b69f-c2f008305600",
        "showInput": true,
        "customInput": null,
        "collapsed": false,
        "requestMsgId": "acd7c6d2-1a5a-4ab2-b69f-c2f008305600",
        "executionStartTime": 1693594460043,
        "executionStopTime": 1693594465145
      },
      "source": [
        "# for each day and for each user, combine the notifications generated for them\n",
        "df_derived_2 = df_keeps.groupby(\n",
        "    ['auction_event_date', 'user_id_anonymized']\n",
        ").agg({\n",
        "    'auction_event_time': 'last',\n",
        "    'notification_type': list,\n",
        "    'notification_value': list\n",
        "}).reset_index()"
      ],
      "execution_count": 14,
      "outputs": []
    },
    {
      "cell_type": "code",
      "metadata": {
        "originalKey": "9a06a066-9840-43a5-9119-8e3470da05e6",
        "showInput": true,
        "customInput": null,
        "collapsed": false,
        "requestMsgId": "9a06a066-9840-43a5-9119-8e3470da05e6",
        "executionStartTime": 1693594465234,
        "executionStopTime": 1693594465687
      },
      "source": [
        "df_derived_2.to_csv('instagram_notification_auction_derived_dataset_two_day_window.csv', index=False)"
      ],
      "execution_count": 16,
      "outputs": []
    },
    {
      "cell_type": "code",
      "metadata": {
        "originalKey": "25f30b68-f9e5-4aad-ae13-bcfd34534f9e",
        "showInput": true,
        "customInput": null
      },
      "source": [
        ""
      ],
      "execution_count": null,
      "outputs": []
    }
  ]
}
