{
  "metadata": {
    "dataExplorerConfig": {},
    "bento_stylesheets": {
      "bento/extensions/flow/main.css": true,
      "bento/extensions/kernel_selector/main.css": true,
      "bento/extensions/kernel_ui/main.css": true,
      "bento/extensions/new_kernel/main.css": true,
      "bento/extensions/system_usage/main.css": true,
      "bento/extensions/theme/main.css": true
    },
    "kernelspec": {
      "name": "bento_kernel_default",
      "display_name": "Python 3",
      "language": "python",
      "metadata": {
        "kernel_name": "bento_kernel_default",
        "nightly_builds": true,
        "fbpkg_supported": true,
        "cinder_runtime": true,
        "ipyflow_runtime": false,
        "is_prebuilt": true
      },
      "isCinder": true
    },
    "language_info": {
      "codemirror_mode": {
        "name": "ipython",
        "version": 3
      },
      "file_extension": ".py",
      "mimetype": "text/x-python",
      "name": "python",
      "nbconvert_exporter": "python",
      "pygments_lexer": "ipython3"
    },
    "last_server_session_id": "ed630e30-b34b-4a2d-bde2-260c18d665a9",
    "last_kernel_id": "b70af9b6-1b2a-46da-9ea0-9d6f21ef51bd",
    "last_base_url": "https://devbig930.prn1.facebook.com:8090/",
    "last_msg_id": "350ddc3d-e21fd19a87ebde488f572402_32",
    "outputWidgetContext": {}
  },
  "nbformat": 4,
  "nbformat_minor": 2,
  "cells": [
    {
      "cell_type": "markdown",
      "metadata": {
        "originalKey": "ff13821b-7881-44cd-85bc-9e42543e6fc7",
        "showInput": false,
        "customInput": null
      },
      "source": [
        "Copyright (c) Meta Platforms, Inc. and affiliates.\n",
        "All rights reserved.\n",
        "\n",
        "This source code is licensed under the license found in the\n",
        "LICENSE file in the root directory of this source tree.\n",
        ""
      ]
    },
    {
      "cell_type": "code",
      "metadata": {
        "originalKey": "6ab36b1a-1f88-4231-84ea-6a8a6234d049",
        "showInput": true,
        "customInput": null,
        "collapsed": false,
        "requestMsgId": "6ab36b1a-1f88-4231-84ea-6a8a6234d049",
        "executionStartTime": 1692137891853,
        "executionStopTime": 1692137891897
      },
      "source": [
        "import numpy as np\n",
        "import pandas as pd\n",
        "\n",
        "%matplotlib inline\n",
        "import matplotlib.pyplot as plt"
      ],
      "execution_count": 6,
      "outputs": []
    },
    {
      "cell_type": "markdown",
      "metadata": {
        "originalKey": "9b428a4e-60e3-4e16-9732-2c6cd1b1fd24",
        "showInput": false,
        "customInput": null
      },
      "source": [
        "## 0. Parameters"
      ]
    },
    {
      "cell_type": "code",
      "metadata": {
        "originalKey": "024b2943-982b-4ce2-b3dd-f09adfe10efc",
        "showInput": true,
        "customInput": null,
        "collapsed": false,
        "requestMsgId": "024b2943-982b-4ce2-b3dd-f09adfe10efc",
        "executionStartTime": 1692137858198,
        "executionStopTime": 1692137858229
      },
      "source": [
        "per_user_supply_const = 5\n",
        "dict_notification = {\n",
        "    'comment_subscribed': 4285.714285714285,\n",
        "    'feed_suite_organic_campaign': 149994.99857142856,\n",
        "    'like': 123731.63142857143,\n",
        "    'story_daily_digest': 190625.00142857147\n",
        "}"
      ],
      "execution_count": 2,
      "outputs": []
    },
    {
      "cell_type": "markdown",
      "metadata": {
        "originalKey": "687efc44-d910-4e0c-8098-435fdd60d961",
        "showInput": false,
        "customInput": null
      },
      "source": [
        "## 1. Load Dataset"
      ]
    },
    {
      "cell_type": "markdown",
      "metadata": {
        "originalKey": "206b33f7-f7e9-41d1-a9d9-43dcb9bc07c6",
        "showInput": false,
        "customInput": null
      },
      "source": [
        "**This data file is outputted by the notebook `[notification_auction] simulation.ipynb`**"
      ]
    },
    {
      "cell_type": "code",
      "metadata": {
        "originalKey": "14f8fb58-2b68-405d-b1a9-780b317c2129",
        "showInput": true,
        "customInput": null,
        "collapsed": false,
        "requestMsgId": "14f8fb58-2b68-405d-b1a9-780b317c2129",
        "executionStartTime": 1692137859553,
        "executionStopTime": 1692137859665
      },
      "source": [
        "df_simulation = pd.read_csv('simulation_outcome.csv')"
      ],
      "execution_count": 3,
      "outputs": []
    },
    {
      "cell_type": "markdown",
      "metadata": {
        "originalKey": "ad7226b4-7edc-4972-9dd8-2f3238dbda10",
        "showInput": false,
        "customInput": null
      },
      "source": [
        "## 2. Pacing Multiplier Plotting and Standard Deviation Computation\n",
        ""
      ]
    },
    {
      "cell_type": "code",
      "metadata": {
        "collapsed": false,
        "originalKey": "cf214f02-ae3b-4277-a9f0-9c1ddd9a8968",
        "requestMsgId": "cf214f02-ae3b-4277-a9f0-9c1ddd9a8968",
        "executionStartTime": 1692137893198,
        "executionStopTime": 1692137893584
      },
      "source": [
        "df_simulation['minute bucket'] = np.round(df_simulation['auction_event_time'] / 60.0)\n",
        "df_simulation_minute_bucketed = df_simulation.groupby(\n",
        "    ['minute bucket', 'notification_type']\n",
        ").agg(\n",
        "    {'notif_type_pacing_multiplier': 'mean'}\n",
        ").reset_index()\n",
        "\n",
        "plt.subplots(figsize=(5,3), dpi=150)\n",
        "for notification_type, _ in dict_notification.items():\n",
        "    selector = df_simulation_minute_bucketed['notification_type']==notification_type\n",
        "    plt.plot(\n",
        "        df_simulation_minute_bucketed.index[selector],\n",
        "        df_simulation_minute_bucketed.notif_type_pacing_multiplier[selector],\n",
        "        label=notification_type\n",
        "    )\n",
        "\n",
        "plt.legend(loc='upper right')\n",
        "plt.xlabel('time')\n",
        "plt.ylabel('pacing multipliers')\n",
        "plt.title('FP with BB pacing', fontsize=14);"
      ],
      "execution_count": 7,
      "outputs": [
        {
          "output_type": "display_data",
          "data": {
            "text/plain": "<Figure size 750x450 with 1 Axes>",
            "image/png": "[encoded data removed]"
          },
          "metadata": {
            "needs_background": "light"
          }
        }
      ]
    },
    {
      "cell_type": "code",
      "metadata": {
        "originalKey": "f59f64d8-519b-4ae8-9704-24c360e1f7fa",
        "showInput": true,
        "customInput": null,
        "collapsed": false,
        "requestMsgId": "f59f64d8-519b-4ae8-9704-24c360e1f7fa",
        "executionStartTime": 1692137899361,
        "executionStopTime": 1692137899392
      },
      "source": [
        "df_simulation_minute_bucketed.groupby('notification_type').agg({\n",
        "    'notif_type_pacing_multiplier': 'std'\n",
        "})"
      ],
      "execution_count": 9,
      "outputs": [
        {
          "output_type": "execute_result",
          "data": {
            "text/plain": "                             notif_type_pacing_multiplier\nnotification_type                                        \ncomment_subscribed                               0.106921\nfeed_suite_organic_campaign                      0.797137\nlike                                             0.796410\nstory_daily_digest                               1.274550",
            "text/html": "<div>\n<style scoped>\n    .dataframe tbody tr th:only-of-type {\n        vertical-align: middle;\n    }\n\n    .dataframe tbody tr th {\n        vertical-align: top;\n    }\n\n    .dataframe thead th {\n        text-align: right;\n    }\n</style>\n<table border=\"1\" class=\"dataframe\">\n  <thead>\n    <tr style=\"text-align: right;\">\n      <th></th>\n      <th>notif_type_pacing_multiplier</th>\n    </tr>\n    <tr>\n      <th>notification_type</th>\n      <th></th>\n    </tr>\n  </thead>\n  <tbody>\n    <tr>\n      <th>comment_subscribed</th>\n      <td>0.106921</td>\n    </tr>\n    <tr>\n      <th>feed_suite_organic_campaign</th>\n      <td>0.797137</td>\n    </tr>\n    <tr>\n      <th>like</th>\n      <td>0.796410</td>\n    </tr>\n    <tr>\n      <th>story_daily_digest</th>\n      <td>1.274550</td>\n    </tr>\n  </tbody>\n</table>\n</div>",
            "application/vnd.dataresource+json": {
              "schema": {
                "fields": [
                  {
                    "name": "notification_type",
                    "type": "string"
                  },
                  {
                    "name": "notif_type_pacing_multiplier",
                    "type": "number"
                  }
                ],
                "primaryKey": [
                  "notification_type"
                ],
                "pandas_version": "0.20.0"
              },
              "data": [
                {
                  "notification_type": "comment_subscribed",
                  "notif_type_pacing_multiplier": 0.1069211364
                },
                {
                  "notification_type": "feed_suite_organic_campaign",
                  "notif_type_pacing_multiplier": 0.7971373809
                },
                {
                  "notification_type": "like",
                  "notif_type_pacing_multiplier": 0.7964103774
                },
                {
                  "notification_type": "story_daily_digest",
                  "notif_type_pacing_multiplier": 1.2745503412
                }
              ]
            }
          },
          "metadata": {},
          "execution_count": 9
        }
      ]
    },
    {
      "cell_type": "markdown",
      "metadata": {
        "originalKey": "0d156a3a-64b2-4712-a9d8-782e029777a7",
        "showInput": false,
        "customInput": null
      },
      "source": [
        "## 3. All Other Metrics"
      ]
    },
    {
      "cell_type": "code",
      "metadata": {
        "originalKey": "32d49cde-4018-4581-aa40-3a2127cba4f0",
        "showInput": true,
        "customInput": null,
        "collapsed": false,
        "requestMsgId": "32d49cde-4018-4581-aa40-3a2127cba4f0",
        "executionStartTime": 1692138016054,
        "executionStopTime": 1692138016093
      },
      "source": [
        "def calc_auction_metrics_v2(auction_sim_data, budget_dict, per_user_supply_const):\n",
        "\n",
        "    # The input table auction_sim_data should have the following columns:     \n",
        "    # 1. event_id \n",
        "    # 2. user_id \n",
        "    # 3. auction_event_date\n",
        "    # 4. auction_event_time\n",
        "    # 5. sim_notif_win\n",
        "    # 6. notification_value\n",
        "    # 7. notification_type\n",
        "    # 8. notif_type_pacing_multiplier\n",
        "    # 9. platform_pacing_multiplier\n",
        "\n",
        "    # budget_dict is a dictionary with the notification type as key and corresponding budget as the values\n",
        "    # per_user_supply_const is an integer specifying the supply constraint at a user level\n",
        "\n",
        "    auction_metrics = {}\n",
        "    auction_metrics['avg_winning_bid'] = calc_avg_winning_val(auction_sim_data, metric_type = 'notification_value')\n",
        "    auction_metrics['per_type_utility'] = calc_utility_per_type(auction_sim_data)\n",
        "    auction_metrics['budget_wt_gm_utility'] = calc_EG_obj(auction_metrics['per_type_utility'], budget_dict) \n",
        "    auction_metrics['supply_const_violation_rate'] = calc_supply_const_violation_wastage_rate(auction_sim_data, per_user_supply_const, 1, 'supply_const_violation')\n",
        "    auction_metrics['supply_const_1.25_violation_rate'] = calc_supply_const_violation_wastage_rate(auction_sim_data, per_user_supply_const, 1.25, 'supply_const_violation')\n",
        "    auction_metrics['supply_const_1.5_violation_rate'] = calc_supply_const_violation_wastage_rate(auction_sim_data, per_user_supply_const, 1.5, 'supply_const_violation')\n",
        "    auction_metrics['supply_const_2_violation_rate'] = calc_supply_const_violation_wastage_rate(auction_sim_data, per_user_supply_const, 2, 'supply_const_violation')\n",
        "    auction_metrics['supply_const_2.25_violation_rate'] = calc_supply_const_violation_wastage_rate(auction_sim_data, per_user_supply_const, 2.25, 'supply_const_violation')\n",
        "    auction_metrics['supply_const_2.5_violation_rate'] = calc_supply_const_violation_wastage_rate(auction_sim_data, per_user_supply_const, 2.5, 'supply_const_violation')\n",
        "    auction_metrics['supply_const_5_violation_rate'] = calc_supply_const_violation_wastage_rate(auction_sim_data, per_user_supply_const, 5, 'supply_const_violation')\n",
        "    auction_metrics['supply_const_10_violation_rate'] = calc_supply_const_violation_wastage_rate(auction_sim_data, per_user_supply_const, 10, 'supply_const_violation')\n",
        "    auction_metrics['num_sent_notifs']= calc_num_sent_notifs(auction_sim_data)\n",
        "    auction_metrics['avg_violation_per_user'] = calc_avg_violation_wastage_per_user(auction_sim_data, per_user_supply_const, 'supply_const_violation')\n",
        "    auction_metrics['wastage_rate'] = calc_supply_const_violation_wastage_rate(auction_sim_data, per_user_supply_const, 1, 'wastage')\n",
        "    auction_metrics['wastage_per_user'] = calc_avg_violation_wastage_per_user(auction_sim_data, per_user_supply_const, 'wastage')\n",
        "    return auction_metrics\n",
        "\n",
        "\n",
        "def calc_avg_winning_val(auction_sim_data: pd.DataFrame, metric_type = 'notification_value') -> float:\n",
        "    winning_notifs = auction_sim_data.loc[auction_sim_data['sim_notif_win']==1]\n",
        "    avg_winning_val = np.mean(winning_notifs[metric_type].values)\n",
        "    return avg_winning_val\n",
        "\n",
        "def calc_utility_per_type(auction_sim_data: pd.DataFrame):\n",
        "    winning_notifs = auction_sim_data.loc[auction_sim_data['sim_notif_win']==1]\n",
        "    per_type_utility = winning_notifs.groupby(['notification_type'])['notification_value'].sum()\n",
        "    return per_type_utility.to_dict()\n",
        "\n",
        "def calc_EG_obj(utility_dict, budget_dict):\n",
        "    assert(set(utility_dict.keys()) == set(budget_dict.keys()))\n",
        "    num_notif_types = len(utility_dict.keys())\n",
        "    utilities = np.zeros(num_notif_types)\n",
        "    budgets = np.zeros(num_notif_types)\n",
        "    for i, notif_type in enumerate(utility_dict.keys()):\n",
        "        utilities[i] = utility_dict[notif_type]\n",
        "        budgets[i] = budget_dict[notif_type]\n",
        "    return np.sum(np.log(utilities) * budgets)\n",
        "\n",
        "# metric_type should either be 'supply_const_violation' or 'wastage'\n",
        "def calc_supply_const_violation_wastage_rate(auction_sim_data: pd.DataFrame, per_user_supply_const:int, supply_factor=1.0, metric_type='supply_const_violation') -> float:\n",
        "    num_gen_notifs_per_user = auction_sim_data.groupby(['user_id'])['event_id'].size().rename('num_notif_gen').reset_index()\n",
        "    winning_notifs = auction_sim_data.loc[auction_sim_data['sim_notif_win']==1]\n",
        "    num_winning_notifs_per_user = winning_notifs.groupby(['user_id'])['sim_notif_win'].sum().rename('num_notif_win').reset_index().merge(\n",
        "        num_gen_notifs_per_user, how='right', on='user_id'\n",
        "    )\n",
        "    if metric_type=='supply_const_violation':\n",
        "        num_winning_notifs_per_user['user_metric'] = num_winning_notifs_per_user['num_notif_win'] > supply_factor*per_user_supply_const\n",
        "    elif metric_type =='wastage':\n",
        "        num_winning_notifs_per_user['user_metric'] = num_winning_notifs_per_user['num_notif_win'] < np.minimum(per_user_supply_const, num_winning_notifs_per_user['num_notif_gen'])\n",
        "    return np.mean(num_winning_notifs_per_user['user_metric'].values)\n",
        "\n",
        "def calc_num_sent_notifs(auction_sim_data: pd.DataFrame):\n",
        "    winning_notifs = auction_sim_data.loc[auction_sim_data['sim_notif_win']==1]\n",
        "    num_winning_notifs_dict = winning_notifs.groupby(['notification_type'])['event_id'].count().to_dict()\n",
        "    num_winning_notifs_dict['all'] = len(winning_notifs)\n",
        "    return num_winning_notifs_dict\n",
        "\n",
        "# metric_type should either be 'supply_const_violation' or 'wastage'\n",
        "def calc_avg_violation_wastage_per_user(auction_sim_data: pd.DataFrame, per_user_supply_const:int, metric_type='supply_const_violation') -> float:\n",
        "    winning_notifs = auction_sim_data.loc[auction_sim_data['sim_notif_win']==1]\n",
        "    num_winning_notifs_per_user = winning_notifs.groupby(['user_id'])['sim_notif_win'].sum().rename('num_notif_win').reset_index()\n",
        "    num_gen_notifs_per_user = auction_sim_data.groupby(['user_id'])['event_id'].size().rename('num_notif_gen').reset_index()\n",
        "    joint_df = num_winning_notifs_per_user.merge(num_gen_notifs_per_user, on='user_id', how='left')\n",
        "    if metric_type=='supply_const_violation':\n",
        "        num_winning_notifs_per_user['user_metric'] = np.maximum(num_winning_notifs_per_user['num_notif_win'] - per_user_supply_const, 0)\n",
        "    elif metric_type =='wastage':\n",
        "        num_winning_notifs_per_user['user_metric'] = np.maximum(np.minimum(per_user_supply_const, joint_df['num_notif_gen'])  - joint_df['num_notif_win'] , 0)\n",
        "    return np.mean(num_winning_notifs_per_user['user_metric'].values)\n",
        ""
      ],
      "execution_count": 13,
      "outputs": []
    },
    {
      "cell_type": "code",
      "metadata": {
        "originalKey": "95e55875-a18b-428d-9be4-943d9cab6328",
        "showInput": true,
        "customInput": null,
        "collapsed": false,
        "requestMsgId": "95e55875-a18b-428d-9be4-943d9cab6328",
        "executionStartTime": 1692138791817,
        "executionStopTime": 1692138792285
      },
      "source": [
        "metrics = calc_auction_metrics_v2(df_simulation, dict_notification, per_user_supply_const)\n",
        "metrics"
      ],
      "execution_count": 16,
      "outputs": [
        {
          "output_type": "execute_result",
          "data": {
            "text/plain": "{'avg_winning_bid': 0.590813865874112,\n 'per_type_utility': {'comment_subscribed': 2379.3031765791843,\n  'feed_suite_organic_campaign': 7908.0228164380605,\n  'like': 13088.731217890978,\n  'story_daily_digest': 17400.73418399124},\n 'budget_wt_gm_utility': 4413848.022289559,\n 'supply_const_violation_rate': 0.07934398845905623,\n 'supply_const_1.25_violation_rate': 0.049998101818457916,\n 'supply_const_1.5_violation_rate': 0.03583766751452109,\n 'supply_const_2_violation_rate': 0.012565961808587373,\n 'supply_const_2.25_violation_rate': 0.008351998785163814,\n 'supply_const_2.5_violation_rate': 0.00523898105614821,\n 'supply_const_5_violation_rate': 0.0,\n 'supply_const_10_violation_rate': 0.0,\n 'num_sent_notifs': {'comment_subscribed': 4307,\n  'feed_suite_organic_campaign': 14401,\n  'like': 20107,\n  'story_daily_digest': 30203,\n  'all': 69018},\n 'avg_violation_per_user': 0.24618878965198646,\n 'wastage_rate': 0.027561595991040584,\n 'wastage_per_user': 0.04919926085617493}"
          },
          "metadata": {},
          "execution_count": 16
        }
      ]
    },
    {
      "cell_type": "code",
      "metadata": {
        "originalKey": "c5ca4036-6fe0-41dd-b2c2-31bfe1a5b1d7",
        "showInput": true,
        "customInput": null
      },
      "source": [
        ""
      ],
      "execution_count": null,
      "outputs": []
    }
  ]
}
