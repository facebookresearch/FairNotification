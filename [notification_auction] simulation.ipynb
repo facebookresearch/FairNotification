{
  "metadata": {
    "dataExplorerConfig": {},
    "bento_stylesheets": {
      "bento/extensions/flow/main.css": true,
      "bento/extensions/kernel_selector/main.css": true,
      "bento/extensions/kernel_ui/main.css": true,
      "bento/extensions/new_kernel/main.css": true,
      "bento/extensions/system_usage/main.css": true,
      "bento/extensions/theme/main.css": true
    },
    "kernelspec": {
      "name": "bento_kernel_arvr_decision_science",
      "display_name": "arvr_decision_science",
      "language": "python",
      "metadata": {
        "kernel_name": "bento_kernel_arvr_decision_science",
        "nightly_builds": true,
        "fbpkg_supported": true,
        "cinder_runtime": true,
        "ipyflow_runtime": false,
        "is_prebuilt": true
      },
      "isCinder": true
    },
    "language_info": {
      "codemirror_mode": {
        "name": "ipython",
        "version": 3
      },
      "file_extension": ".py",
      "mimetype": "text/x-python",
      "name": "python",
      "nbconvert_exporter": "python",
      "pygments_lexer": "ipython3"
    },
    "last_server_session_id": "14e877c6-246d-4ad0-bffa-c15bcf7eb05b",
    "last_kernel_id": "85ecb4ea-7baa-42e5-a0dc-41bcbce23474",
    "last_base_url": "https://devbig930.prn1.facebook.com:8090/",
    "last_msg_id": "6048508e-5f270e8f2bb5a5be32bff4ac_219",
    "outputWidgetContext": {}
  },
  "nbformat": 4,
  "nbformat_minor": 2,
  "cells": [
    {
      "cell_type": "markdown",
      "metadata": {
        "originalKey": "cd0dfeb5-7f72-44b9-b115-277d38eefca3",
        "showInput": false,
        "customInput": null
      },
      "source": [
        "Copyright (c) Meta Platforms, Inc. and affiliates.\n",
        "All rights reserved.\n",
        "\n",
        "This source code is licensed under the license found in the\n",
        "LICENSE file in the root directory of this source tree.\n",
        ""
      ]
    },
    {
      "cell_type": "code",
      "metadata": {
        "collapsed": false,
        "originalKey": "461bc7d3-2c11-4373-b6cb-8df99d5bbe16",
        "requestMsgId": "461bc7d3-2c11-4373-b6cb-8df99d5bbe16",
        "customOutput": null,
        "executionStartTime": 1692137556487,
        "executionStopTime": 1692137557208
      },
      "source": [
        "import numpy as np\n",
        "import pandas as pd\n",
        "pd.set_option('display.max_rows', 20)\n",
        "\n",
        "%matplotlib inline\n",
        "import matplotlib.pyplot as plt\n",
        "plt.rcParams['figure.dpi'] = 100\n",
        "import seaborn as sns\n",
        "\n",
        "import copy\n",
        "import os"
      ],
      "execution_count": 42,
      "outputs": []
    },
    {
      "cell_type": "markdown",
      "metadata": {
        "originalKey": "8f4dcba5-cfdb-40c4-b5af-b6b50137bc88",
        "showInput": false,
        "customInput": null
      },
      "source": [
        "## 0. Parameters"
      ]
    },
    {
      "cell_type": "code",
      "metadata": {
        "originalKey": "b3397d04-cdb7-4d53-84dc-e3a4af7f5208",
        "showInput": true,
        "customInput": null,
        "collapsed": false,
        "requestMsgId": "b3397d04-cdb7-4d53-84dc-e3a4af7f5208",
        "customOutput": null,
        "executionStartTime": 1692135854539,
        "executionStopTime": 1692135854544
      },
      "source": [
        "learning_start_date = '2022-12-18' \n",
        "learning_end_date = '2022-12-20'\n",
        "\n",
        "simulation_start_date = '2022-12-21' \n",
        "simulation_end_date = '2022-12-23'\n",
        "\n",
        "num_notifs_allowed = 5\n",
        "\n",
        "dict_notification = {\n",
        "    'comment_subscribed': {\n",
        "        'index': 0,\n",
        "        'budget_price_learning': 4285.714285714286,\n",
        "        'budget_simulation': 4285.714285714286\n",
        "    },\n",
        "    'feed_suite_organic_campaign': {\n",
        "        'index': 1,\n",
        "        'budget_price_learning': 149994.99857142856,\n",
        "        'budget_simulation': 149994.99857142856\n",
        "    },\n",
        "    'like': {\n",
        "        'index': 2,\n",
        "        'budget_price_learning': 123731.63142857142,\n",
        "        'budget_simulation': 123731.63142857142,\n",
        "    },\n",
        "    'story_daily_digest': {\n",
        "        'index': 3,\n",
        "        'budget_price_learning': 190625.0014285714,\n",
        "        'budget_simulation': 190625.0014285714\n",
        "    },\n",
        "}"
      ],
      "execution_count": 2,
      "outputs": []
    },
    {
      "cell_type": "markdown",
      "metadata": {
        "originalKey": "85ffd6b4-8b1e-4a74-b06b-58ade8a18c73",
        "showInput": false,
        "customInput": null
      },
      "source": [
        "## 1. Load dataset"
      ]
    },
    {
      "cell_type": "markdown",
      "metadata": {
        "originalKey": "3ff4fd38-4e64-415b-af78-89fa3d799d8d",
        "showInput": false,
        "customInput": null
      },
      "source": [
        "**The dataset can be downloaded at https://socialmediaarchive.org/record/55?&ln=en**\n",
        ""
      ]
    },
    {
      "cell_type": "code",
      "metadata": {
        "originalKey": "2f080389-670a-43b8-a65b-27d277f41a53",
        "showInput": true,
        "customInput": null,
        "collapsed": false,
        "requestMsgId": "2f080389-670a-43b8-a65b-27d277f41a53",
        "executionStartTime": 1692735526690,
        "executionStopTime": 1692735526789
      },
      "source": [
        "data_file_name = \"instagram_notification_auction_base_dataset.csv\"\n",
        "df = pd.read_csv(data_file_name)"
      ],
      "execution_count": 53,
      "outputs": []
    },
    {
      "cell_type": "code",
      "metadata": {
        "originalKey": "c31d63e5-4a4d-40bb-9215-4feeabc0035c",
        "showInput": true,
        "customInput": null,
        "collapsed": false,
        "requestMsgId": "c31d63e5-4a4d-40bb-9215-4feeabc0035c",
        "customOutput": null,
        "executionStartTime": 1692735542074,
        "executionStopTime": 1692735542083
      },
      "source": [
        "df.columns"
      ],
      "execution_count": 54,
      "outputs": [
        {
          "output_type": "execute_result",
          "data": {
            "text/plain": "Index(['auction_event_date', 'auction_event_time', 'event_id', 'user_id',\n       'notification_type', 'notification_value',\n       'notif_type_pacing_multiplier', 'sim_notif_win'],\n      dtype='object')"
          },
          "metadata": {},
          "execution_count": 54
        }
      ]
    },
    {
      "cell_type": "code",
      "metadata": {
        "originalKey": "674b8609-8712-462e-af7b-ce320280ff58",
        "showInput": true,
        "customInput": null,
        "collapsed": false,
        "requestMsgId": "674b8609-8712-462e-af7b-ce320280ff58",
        "executionStartTime": 1692137268925,
        "executionStopTime": 1692137269183
      },
      "source": [
        "# filter on auction_type; select columns; and sort by event_time\n",
        "df = df[df['auction_type']=='second_price'][\n",
        "    ['auction_event_date', 'auction_event_time', 'event_id', 'user_id_anonymized', 'notification_type', 'notification_value']\n",
        "].sort_values(\n",
        "    by='auction_event_time'\n",
        ").rename(\n",
        "    columns={'user_id_anonymized': 'user_id'}\n",
        ")\n",
        "\n",
        "# add platform bid\n",
        "df['platform_value'] = df['notification_value']\n",
        "\n",
        "# add notification type index to the dataset\n",
        "df['notification_index'] = df['notification_type'].apply(\n",
        "    lambda x: dict_notification[x]['index']\n",
        ")\n",
        "\n",
        "# learning and testing dataset\n",
        "df_price_learning = df[\n",
        "    (df['auction_event_date'] >= learning_start_date) & (df['auction_event_date'] <= learning_end_date)\n",
        "]\n",
        "df_simulation = df[\n",
        "    (df['auction_event_date'] >= simulation_start_date) & (df['auction_event_date'] <= simulation_end_date)\n",
        "]"
      ],
      "execution_count": 25,
      "outputs": []
    },
    {
      "cell_type": "markdown",
      "metadata": {
        "originalKey": "d93a85c3-dbaf-4708-b822-add4ab992b02",
        "showInput": false,
        "customInput": null
      },
      "source": [
        "## 2. Training -- learn prices and pacing multipliers"
      ]
    },
    {
      "cell_type": "markdown",
      "metadata": {
        "originalKey": "23142e39-f685-490f-bc71-74e569c3553e",
        "showInput": false,
        "customInput": null
      },
      "source": [
        "### 2.1 Sampling a subset of users and save the data in correct format to be used by Julia"
      ]
    },
    {
      "cell_type": "code",
      "metadata": {
        "originalKey": "9a3c68b4-de5c-4ea6-b6a0-30ceab57d159",
        "showInput": true,
        "customInput": null,
        "collapsed": false,
        "requestMsgId": "9a3c68b4-de5c-4ea6-b6a0-30ceab57d159",
        "customOutput": null,
        "executionStartTime": 1692136872536,
        "executionStopTime": 1692136872544
      },
      "source": [
        "def sampling_and_save_input_for_julia(\n",
        "    df: pd.DataFrame, \n",
        "    seed_no: int, \n",
        "    size_selected: int, \n",
        "    budget_notification_types: np.ndarray, \n",
        "    budget_platform: float\n",
        ") -> pd.DataFrame:\n",
        "    # sampling\n",
        "    user_ids = sorted(df['user_id'].unique())\n",
        "    np.random.seed(seed_no+100)\n",
        "    users_id_selected = np.random.choice(user_ids, size=size_selected)\n",
        "    df_sample = df[df['user_id'].isin(users_id_selected)]\n",
        "\n",
        "    # valulations (one indexed)\n",
        "    user_id_to_index_price_learning = {}\n",
        "    for user_index, user_id in enumerate(users_id_selected):\n",
        "        user_id_to_index_price_learning[user_id] = user_index\n",
        "    df_sample['user_index'] = df_sample['user_id'].apply(\n",
        "        lambda x: user_id_to_index_price_learning[x]\n",
        "    )\n",
        "    valuations_one_index = []\n",
        "    for _, row in df_sample.iterrows():\n",
        "        valuations_one_index.append(\n",
        "            [row['notification_index']+1, row['user_index']+1, row['notification_value'], row['platform_value']]\n",
        "        )\n",
        "    valuations_one_index = np.array(valuations_one_index)\n",
        "\n",
        "    # capacity\n",
        "    supply_num_user_slots = np.array([num_notifs_allowed for _ in range(size_selected)])\n",
        "\n",
        "    # save to be solved by julia\n",
        "    folder_path =  'notification_auction/beta_learning/seed_' + str(seed_no) + '/'\n",
        "    if not os.path.exists(folder_path):\n",
        "        os.makedirs(folder_path)\n",
        "    pd.DataFrame(valuations_one_index).to_csv(folder_path+'valuations.csv', index=False, header=False)\n",
        "    pd.DataFrame(budget_notification_types).to_csv(folder_path+'budget_notification_types.csv', index=False, header=False)\n",
        "    pd.DataFrame([budget_platform]).to_csv(folder_path+'budget_platform.csv', index=False, header=False)\n",
        "    pd.DataFrame(supply_num_user_slots).to_csv(folder_path+'supply_num_user_slots.csv', index=False, header=False)\n",
        "\n",
        "    # return sampled data\n",
        "    return df_sample"
      ],
      "execution_count": 21,
      "outputs": []
    },
    {
      "cell_type": "code",
      "metadata": {
        "originalKey": "f6c6b65d-114e-42ed-b87c-146b731a3f9b",
        "showInput": true,
        "customInput": null,
        "collapsed": false,
        "requestMsgId": "f6c6b65d-114e-42ed-b87c-146b731a3f9b",
        "customOutput": null,
        "executionStartTime": 1692136886639,
        "executionStopTime": 1692136889793
      },
      "source": [
        "seeds = np.arange(1000, 1010)\n",
        "size_selected = 1000    # number of users sampled to estimate pacing multipliers\n",
        "\n",
        "# sampling proportion\n",
        "proportion_selected = size_selected/len(df_price_learning['user_id'].unique())\n",
        "\n",
        "# budgets of notification types (appropriately inflated)\n",
        "budget_notification_types = np.array(\n",
        "    [\n",
        "        notification_type['budget_price_learning'] * proportion_selected\n",
        "        for _, notification_type in dict_notification.items()\n",
        "    ]\n",
        ") \n",
        "\n",
        "# generate samples and saving them to folder `notification_auction/beta_learning`\n",
        "df_price_learning_samples = {}\n",
        "for seed_no in seeds:\n",
        "    df_price_learning_samples[seed_no] = sampling_and_save_input_for_julia(\n",
        "        df_price_learning, \n",
        "        seed_no, \n",
        "        size_selected, \n",
        "        budget_notification_types, \n",
        "        0.0\n",
        "    )"
      ],
      "execution_count": 22,
      "outputs": [
        {
          "output_type": "stream",
          "name": "stderr",
          "text": [
            "<ipython-input-21-8d48fdf6bada>:18: SettingWithCopyWarning:\n\n\nA value is trying to be set on a copy of a slice from a DataFrame.\nTry using .loc[row_indexer,col_indexer] = value instead\n\nSee the caveats in the documentation: https://pandas.pydata.org/pandas-docs/stable/user_guide/indexing.html#returning-a-view-versus-a-copy\n\n"
          ]
        }
      ]
    },
    {
      "cell_type": "markdown",
      "metadata": {
        "originalKey": "97f4554c-c887-4250-bd7a-6e966785edaf",
        "showInput": false,
        "customInput": null
      },
      "source": [
        "### 2.2 run the julia program in terminal (outside of the python notebook)"
      ]
    },
    {
      "cell_type": "markdown",
      "metadata": {
        "originalKey": "24e04da4-0bbd-42f5-a59d-bcf5bcf752aa",
        "showInput": false,
        "customInput": null
      },
      "source": [
        "<span style=\"color:DodgerBlue\">\n",
        "To trigger the julia program, run this in terminal\n",
        "\n",
        "```\n",
        "for i in {1000..1009}; do julia EG_opt.jl beta_learning $i > output_$i.txt & done\n",
        "```\n",
        "\n",
        "The julia program will run in parallel in the background. Wait for them to finish before continuing.\n",
        "</span>"
      ]
    },
    {
      "cell_type": "markdown",
      "metadata": {
        "originalKey": "a26ee781-5cf2-4096-af0c-a213e85fe0ca",
        "showInput": false,
        "customInput": null
      },
      "source": [
        "### 2.3 read the output of the julia program and compute pacing multipliers"
      ]
    },
    {
      "cell_type": "code",
      "metadata": {
        "originalKey": "a064811c-2ead-444f-8285-86224271dc9b",
        "showInput": true,
        "customInput": null,
        "collapsed": false,
        "requestMsgId": "a064811c-2ead-444f-8285-86224271dc9b",
        "customOutput": null,
        "executionStartTime": 1692137345711,
        "executionStopTime": 1692137345719
      },
      "source": [
        "def compute_pacing_multipliers(\n",
        "    dfs_dict, seed_no, budget_notification_types, budget_platform\n",
        "):\n",
        "    # read in the data\n",
        "    folder_path = 'notification_auction/beta_learning/seed_' + str(seed_no) + '/'\n",
        "    # df_dual_sup = pd.read_csv(folder_path+'SUP_dual.csv', header=None, names=['dual_sup'])\n",
        "    # df_dual_AMO = pd.read_csv(folder_path+'AMO_dual.csv', header=None, names=['dual_AMO'])\n",
        "    df_alloc = pd.read_csv(folder_path+'alloc.csv', header=None, names=['alloc'])\n",
        "    df = dfs_dict[seed_no]\n",
        "\n",
        "    # calculate the utility for notification types and platform\n",
        "    df['sim_notif_win'] = np.array(df_alloc['alloc'])\n",
        "    df_alloc['notification_index'] = np.array(df['notification_index'])\n",
        "    df_alloc['notification_utility'] = np.array(df['notification_value']) * np.array(df_alloc['alloc'])\n",
        "    df_alloc['platform_utility'] = np.array(df['platform_value']) * np.array(df_alloc['alloc'])\n",
        "    df_notification_utility = df_alloc.groupby(\n",
        "        'notification_index'\n",
        "    ).agg(\n",
        "        {'notification_utility': sum, 'alloc': sum}\n",
        "    ).reset_index()\n",
        "\n",
        "    pacing_multipliers = {}\n",
        "    utilities = {}\n",
        "    num_sent = {}\n",
        "    for _, row in df_notification_utility.iterrows():\n",
        "        notification_index = int(row['notification_index'])\n",
        "        B_i = budget_notification_types[notification_index]\n",
        "        u_i = row['notification_utility']\n",
        "        utilities[notification_index] = u_i\n",
        "        pacing_multipliers[notification_index] = B_i / u_i\n",
        "        num_sent[notification_index] = row['alloc']\n",
        "\n",
        "    u_p = df_alloc['platform_utility'].sum()\n",
        "    B_p = budget_platform\n",
        "    utilities['platform'] = u_p\n",
        "    pacing_multipliers['platform'] = B_p / u_p\n",
        "    num_sent['platform'] = df_alloc['alloc'].sum()\n",
        "\n",
        "    return pacing_multipliers, utilities, num_sent"
      ],
      "execution_count": 26,
      "outputs": []
    },
    {
      "cell_type": "code",
      "metadata": {
        "originalKey": "f5797bbd-574c-4691-981a-803faf0bdc56",
        "showInput": true,
        "customInput": null,
        "collapsed": false,
        "requestMsgId": "f5797bbd-574c-4691-981a-803faf0bdc56",
        "customOutput": null,
        "executionStartTime": 1692137346403,
        "executionStopTime": 1692137346567
      },
      "source": [
        "pacing_multipliers_samples = {}\n",
        "utilities_samples = {}\n",
        "for seed_no in seeds:\n",
        "    try:\n",
        "        pacing_multipliers_samples[seed_no], utilities_samples[seed_no], _ = compute_pacing_multipliers(\n",
        "            df_price_learning_samples, seed_no, \n",
        "            budget_notification_types, 0.0\n",
        "        )\n",
        "    except:\n",
        "        print(seed_no)"
      ],
      "execution_count": 27,
      "outputs": [
        {
          "output_type": "stream",
          "name": "stderr",
          "text": [
            "<ipython-input-26-7fdbf2cf27be>:12: SettingWithCopyWarning:\n\n\nA value is trying to be set on a copy of a slice from a DataFrame.\nTry using .loc[row_indexer,col_indexer] = value instead\n\nSee the caveats in the documentation: https://pandas.pydata.org/pandas-docs/stable/user_guide/indexing.html#returning-a-view-versus-a-copy\n\n"
          ]
        }
      ]
    },
    {
      "cell_type": "code",
      "metadata": {
        "originalKey": "0200fe84-a403-4eea-9a0d-885ae7a7fad5",
        "showInput": true,
        "customInput": null,
        "collapsed": false,
        "requestMsgId": "0200fe84-a403-4eea-9a0d-885ae7a7fad5",
        "customOutput": null,
        "executionStartTime": 1692137506698,
        "executionStopTime": 1692137507056
      },
      "source": [
        "# plot the variation\n",
        "for notification_index, (notification_type_name, _) in enumerate(dict_notification.items()):\n",
        "    plt.plot(\n",
        "        range(len(pacing_multipliers_samples)), \n",
        "        [betas[notification_index] for _, betas in pacing_multipliers_samples.items()], \n",
        "        '-o',\n",
        "        label = notification_type_name\n",
        "    )\n",
        "plt.plot(\n",
        "    range(len(pacing_multipliers_samples)), \n",
        "    [betas['platform'] for _, betas in pacing_multipliers_samples.items()], \n",
        "    '-o',\n",
        "    label = 'platform'\n",
        ")\n",
        "plt.ylabel('pacing multiplier')\n",
        "plt.xlabel('samples')\n",
        "plt.legend()"
      ],
      "execution_count": 39,
      "outputs": [
        {
          "output_type": "execute_result",
          "data": {
            "text/plain": "<matplotlib.legend.Legend at 0x7fe7177f2610>"
          },
          "metadata": {},
          "execution_count": 39
        },
        {
          "output_type": "display_data",
          "data": {
            "text/plain": "<Figure size 600x400 with 1 Axes>",
            "image/png": "[encoded data removed]"
          },
          "metadata": {
            "needs_background": "light"
          }
        }
      ]
    },
    {
      "cell_type": "code",
      "metadata": {
        "originalKey": "e5be9036-2d39-453f-be69-039c1acec1dc",
        "showInput": true,
        "customInput": null,
        "collapsed": false,
        "requestMsgId": "e5be9036-2d39-453f-be69-039c1acec1dc",
        "customOutput": null,
        "executionStartTime": 1692137513945,
        "executionStopTime": 1692137513949
      },
      "source": [
        "# take an average across the samples for utilities and the pacing multipliers\n",
        "utilities_price_learning_exp = {}\n",
        "pacing_multipliers_price_learning = {}\n",
        "for key in [x['index'] for _, x in dict_notification.items()] + ['platform']:\n",
        "    utilities_list = np.array([\n",
        "        utilities_sample[key]\n",
        "        for _, utilities_sample in utilities_samples.items()\n",
        "    ])\n",
        "\n",
        "    pacing_multpliers_list = np.array([\n",
        "        pacing_multipliers_sample[key] \n",
        "        for _, pacing_multipliers_sample in pacing_multipliers_samples.items()\n",
        "    ])\n",
        "\n",
        "    pacing_multipliers_price_learning[key] = np.sum(\n",
        "        utilities_list*pacing_multpliers_list\n",
        "    ) / np.sum(utilities_list)\n",
        "\n",
        "    utilities_price_learning_exp[key] = np.average(utilities_list) / proportion_selected"
      ],
      "execution_count": 40,
      "outputs": []
    },
    {
      "cell_type": "markdown",
      "metadata": {
        "originalKey": "c544e5ce-3e2f-41d2-b4bc-9e63beec3af3",
        "showInput": false,
        "customInput": null
      },
      "source": [
        "### 2.4 compute the prices for each user"
      ]
    },
    {
      "cell_type": "code",
      "metadata": {
        "originalKey": "8a3f9a96-07c3-4556-b915-5d70fcdab0bb",
        "showInput": true,
        "customInput": null,
        "collapsed": false,
        "requestMsgId": "8a3f9a96-07c3-4556-b915-5d70fcdab0bb",
        "customOutput": null,
        "executionStartTime": 1692137617888,
        "executionStopTime": 1692137646966
      },
      "source": [
        "# calculate the price for each user\n",
        "user_prices = {}\n",
        "for user_id in np.unique(\n",
        "    np.concatenate((\n",
        "        np.array(df_simulation['user_id']), \n",
        "        np.array(df_price_learning['user_id'])\n",
        "    ))\n",
        "):\n",
        "    user_prices[user_id] = {'paced_total_bids': [], 'price': 0}\n",
        "\n",
        "for user_id in df_price_learning['user_id'].unique():\n",
        "    notif_generated_for_user = df_price_learning[\n",
        "        df_price_learning['user_id'] == user_id\n",
        "    ]\n",
        "    for _, row in notif_generated_for_user.iterrows():\n",
        "        v_ij = row['notification_value']\n",
        "        v_ijp = row['platform_value']\n",
        "        notification_index = int(row['notification_index'])\n",
        "        beta_i = pacing_multipliers_price_learning[notification_index]\n",
        "        beta_p = pacing_multipliers_price_learning['platform']\n",
        "        user_prices[user_id]['paced_total_bids'].append(\n",
        "            beta_i * v_ij + beta_p * v_ijp\n",
        "        )\n",
        "\n",
        "for user_id, _ in user_prices.items():\n",
        "    if len(user_prices[user_id]['paced_total_bids']) >= num_notifs_allowed:\n",
        "        user_prices[user_id]['price'] = np.sort(\n",
        "            user_prices[user_id]['paced_total_bids']\n",
        "        )[-num_notifs_allowed]"
      ],
      "execution_count": 45,
      "outputs": []
    },
    {
      "cell_type": "code",
      "metadata": {
        "originalKey": "8a297978-b949-45c4-baab-29399525cb70",
        "showInput": true,
        "customInput": null,
        "collapsed": false,
        "requestMsgId": "8a297978-b949-45c4-baab-29399525cb70",
        "executionStartTime": 1692137611586,
        "executionStopTime": 1692137615031
      },
      "source": [
        "# plot price vs number of notifications generated\n",
        "num_notifs_gen_price_learning = pd.Series([\n",
        "    len(x['paced_total_bids']) for _, x in user_prices.items()\n",
        "])\n",
        "prices_list = pd.Series([\n",
        "    x['price'] for _, x in user_prices.items()\n",
        "])\n",
        "sns.lmplot(\n",
        "    x='num_notif',\n",
        "    y='price',\n",
        "    data=pd.DataFrame({\n",
        "        'num_notif':num_notifs_gen_price_learning[num_notifs_gen_price_learning<=1000], \n",
        "        'price':prices_list[num_notifs_gen_price_learning<=1000]\n",
        "    }),\n",
        "    fit_reg=True\n",
        ") \n",
        "plt.xlabel('number of notifications generated')\n",
        "plt.ylabel('price (inflated with proper scale)')"
      ],
      "execution_count": 44,
      "outputs": [
        {
          "output_type": "execute_result",
          "data": {
            "text/plain": "Text(39.91334533691406, 0.5, 'price (inflated with proper scale)')"
          },
          "metadata": {},
          "execution_count": 44
        },
        {
          "output_type": "display_data",
          "data": {
            "text/plain": "<Figure size 500x500 with 1 Axes>",
            "image/png": "[encoded data removed]"
          },
          "metadata": {
            "needs_background": "light"
          }
        }
      ]
    },
    {
      "cell_type": "markdown",
      "metadata": {
        "originalKey": "4c072980-5af1-4d16-9bd4-b5b494981045",
        "showInput": false,
        "customInput": null
      },
      "source": [
        "## 3. Simulation - Algorithm 1 in paper"
      ]
    },
    {
      "cell_type": "code",
      "metadata": {
        "originalKey": "3815f82b-b8f0-4531-954c-734f71b6cd82",
        "showInput": true,
        "customInput": null,
        "collapsed": false,
        "requestMsgId": "3815f82b-b8f0-4531-954c-734f71b6cd82",
        "customOutput": null,
        "executionStartTime": 1692137665361,
        "executionStopTime": 1692137678256
      },
      "source": [
        "# keep track of utilities for each notification type\n",
        "utility_so_far = {}\n",
        "for notification_index in range(len(dict_notification)):\n",
        "    utility_so_far[notification_index] = 0\n",
        "utility_so_far['platform'] = 0\n",
        "\n",
        "# keep track of pacing multipliers\n",
        "pacing_multiplier_upper_bound_factor = 2\n",
        "pacing_multipliers_upper_bound = {}\n",
        "for key, val in pacing_multipliers_price_learning.items():\n",
        "    pacing_multipliers_upper_bound[key] = val * pacing_multiplier_upper_bound_factor\n",
        "pacing_multipliers = copy.deepcopy(pacing_multipliers_upper_bound)\n",
        "\n",
        "# time horizon and budgets\n",
        "T = df_simulation.shape[0]\n",
        "budget_notification_types_simulation = np.array(\n",
        "    [notification_type['budget_simulation'] for _, notification_type in dict_notification.items()]\n",
        ") \n",
        "\n",
        "# keep track of notifications that win the auction for each user\n",
        "bid_win_users = {}\n",
        "for user_id in df_simulation['user_id'].unique():\n",
        "    bid_win_users[user_id] = {'number':0, 'prices': []}\n",
        "\n",
        "# prices\n",
        "user_prices_simul = copy.deepcopy(user_prices)\n",
        "\n",
        "t = 0\n",
        "allocated = np.zeros(df_simulation.shape[0])\n",
        "notif_pacing_multipliers = np.zeros(df_simulation.shape[0])\n",
        "platf_pacing_multipliers = np.zeros(df_simulation.shape[0])\n",
        "for _, row in df_simulation.iterrows():\n",
        "    # compute the bid\n",
        "    v_ij = row['notification_value']\n",
        "    v_ijp = row['platform_value']\n",
        "    user_id = row['user_id']\n",
        "    notification_index = int(row['notification_index'])\n",
        "    beta_i = pacing_multipliers[notification_index]\n",
        "    notif_pacing_multipliers[t] = beta_i\n",
        "    beta_p = pacing_multipliers['platform']\n",
        "    platf_pacing_multipliers[t] = beta_p\n",
        "    p_j = user_prices_simul[user_id]['price']\n",
        "    bid_price = v_ij * beta_i + v_ijp * beta_p\n",
        "\n",
        "    # if winning the auction\n",
        "    if bid_price > p_j:\n",
        "        allocated[t] = 1\n",
        "        utility_so_far[notification_index] += v_ij\n",
        "        utility_so_far['platform'] += v_ijp\n",
        "        bid_win_users[user_id]['number'] += 1\n",
        "        bid_win_users[user_id]['prices'].append(bid_price)\n",
        "        # update price if needed\n",
        "        if bid_win_users[user_id]['number'] >= num_notifs_allowed:\n",
        "            user_prices_simul[user_id]['price'] = np.sort(\n",
        "                bid_win_users[user_id]['prices']\n",
        "            )[-(num_notifs_allowed)]\n",
        "    \n",
        "    # update pacing for notification types\n",
        "    for notification_index in range(len(dict_notification)):\n",
        "        B_i = budget_notification_types_simulation[notification_index]\n",
        "        if  utility_so_far[notification_index] > 0:\n",
        "            pacing_multipliers[notification_index] = min(\n",
        "                pacing_multipliers_upper_bound[notification_index],\n",
        "                B_i / (T * utility_so_far[notification_index] / (t+1) )\n",
        "            )\n",
        "\n",
        "    # update pacing for platforms\n",
        "    if utility_so_far['platform'] > 0:\n",
        "        B_p = 0\n",
        "        pacing_multipliers['platform'] = min(\n",
        "            pacing_multipliers_upper_bound['platform'],\n",
        "            B_p / (T * utility_so_far['platform'] / (t+1))\n",
        "        )\n",
        "\n",
        "    t += 1\n",
        ""
      ],
      "execution_count": 46,
      "outputs": []
    },
    {
      "cell_type": "code",
      "metadata": {
        "originalKey": "812646ce-2435-4810-9108-b80d64fa98a1",
        "showInput": true,
        "customInput": null,
        "collapsed": false,
        "requestMsgId": "812646ce-2435-4810-9108-b80d64fa98a1",
        "customOutput": null,
        "executionStartTime": 1692137849971,
        "executionStopTime": 1692137849982
      },
      "source": [
        "# saving the simulation results\n",
        "df_simulation['sim_notif_win'] = allocated\n",
        "df_simulation['notif_type_pacing_multiplier'] = notif_pacing_multipliers\n",
        "df_simulation['platform_pacing_multiplier'] = platf_pacing_multipliers\n",
        "\n",
        "df_simulation_final = df_simulation[[\n",
        "    'auction_event_date', 'auction_event_time', 'event_id', 'user_id', 'notification_type', 'notification_value', 'notif_type_pacing_multiplier', 'sim_notif_win'\n",
        "]]\n",
        "\n",
        "df_simulation_final.to_csv('simulation_outcome.csv', index=False)"
      ],
      "execution_count": 48,
      "outputs": []
    },
    {
      "cell_type": "code",
      "metadata": {
        "originalKey": "f6e42788-baeb-44da-a956-8f95d1e1b272",
        "showInput": true,
        "customInput": null
      },
      "source": [
        ""
      ],
      "execution_count": null,
      "outputs": []
    }
  ]
}
